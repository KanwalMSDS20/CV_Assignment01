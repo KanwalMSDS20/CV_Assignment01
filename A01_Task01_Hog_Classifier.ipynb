{
 "cells": [
  {
   "cell_type": "code",
   "execution_count": 1,
   "metadata": {},
   "outputs": [],
   "source": [
    "#importing required libraries\n",
    "from skimage.io import imread,imsave, imshow\n",
    "from skimage.transform import resize\n",
    "from skimage.feature import hog\n",
    "from skimage import exposure\n",
    "import matplotlib.pyplot as plt\n",
    "import glob\n",
    "import numpy as np\n",
    "from skimage import img_as_ubyte\n",
    "from sklearn import svm\n",
    "from sklearn.model_selection import GridSearchCV"
   ]
  },
  {
   "cell_type": "code",
   "execution_count": 2,
   "metadata": {},
   "outputs": [],
   "source": [
    "flat_data_arr = []\n",
    "target_arr = []"
   ]
  },
  {
   "cell_type": "code",
   "execution_count": 4,
   "metadata": {},
   "outputs": [],
   "source": [
    "def create_hog(cls):\n",
    "    imdir = pathtofolder\n",
    "    ext = ['png', 'jpg', 'gif']    # Add image formats here\n",
    "    files = []\n",
    "    [files.extend(glob.glob(imdir + '*.' + e)) for e in ext]\n",
    "    images = [imread(file) for file in files]\n",
    "    for i in range(len(images)): \n",
    "        resized_img = resize(images[i], (96,160))\n",
    "        fd, hog_img = hog(resized_img, orientations=8, pixels_per_cell=(16, 16), cells_per_block=(1, 1), transform_sqrt=True, block_norm= 'L1', visualize=True)\n",
    "        flat_data_arr.append(hog_img.flatten())\n",
    "        target_arr.append(cls)"
   ]
  },
  {
   "cell_type": "code",
   "execution_count": 5,
   "metadata": {},
   "outputs": [],
   "source": [
    "pathtofolder = 'C:\\\\Users\\\\Kanwal\\\\computer_vision\\\\INRIA_Dataset_Samples\\\\Train\\\\neg\\\\'\n",
    "create_hog(0)"
   ]
  },
  {
   "cell_type": "code",
   "execution_count": 6,
   "metadata": {},
   "outputs": [],
   "source": [
    "pathtofolder = 'C:\\\\Users\\\\Kanwal\\\\computer_vision\\\\INRIA_Dataset_Samples\\\\Train\\\\pos\\\\'\n",
    "create_hog(1)"
   ]
  },
  {
   "cell_type": "code",
   "execution_count": 7,
   "metadata": {},
   "outputs": [
    {
     "name": "stdout",
     "output_type": "stream",
     "text": [
      "(3634, 15360)\n",
      "3634\n"
     ]
    }
   ],
   "source": [
    "X_train = np.array(flat_data_arr)\n",
    "Y_train = np.array(target_arr)\n",
    "\n",
    "print(X_train.shape)\n",
    "print(Y_train.size)"
   ]
  },
  {
   "cell_type": "code",
   "execution_count": 8,
   "metadata": {},
   "outputs": [
    {
     "data": {
      "text/plain": [
       "LinearSVC(max_iter=5000)"
      ]
     },
     "execution_count": 8,
     "metadata": {},
     "output_type": "execute_result"
    }
   ],
   "source": [
    "svc = svm.LinearSVC(max_iter =5000)\n",
    "svc.fit (X_train,Y_train)"
   ]
  },
  {
   "cell_type": "code",
   "execution_count": 9,
   "metadata": {},
   "outputs": [],
   "source": [
    "pathtofolder = 'C:\\\\Users\\\\Kanwal\\\\computer_vision\\\\INRIA_Dataset_Samples\\\\Test\\\\neg\\\\'\n",
    "create_hog(0)"
   ]
  },
  {
   "cell_type": "code",
   "execution_count": 10,
   "metadata": {},
   "outputs": [],
   "source": [
    "pathtofolder = 'C:\\\\Users\\\\Kanwal\\\\computer_vision\\\\INRIA_Dataset_Samples\\\\Test\\\\pos\\\\'\n",
    "create_hog(1)"
   ]
  },
  {
   "cell_type": "code",
   "execution_count": 11,
   "metadata": {},
   "outputs": [],
   "source": [
    "X_test = np.array(flat_data_arr)\n",
    "Y_test = np.array(target_arr)"
   ]
  },
  {
   "cell_type": "code",
   "execution_count": 12,
   "metadata": {},
   "outputs": [],
   "source": [
    "y_pred=svc.predict(X_test)"
   ]
  },
  {
   "cell_type": "code",
   "execution_count": 13,
   "metadata": {},
   "outputs": [
    {
     "name": "stdout",
     "output_type": "stream",
     "text": [
      "              precision    recall  f1-score   support\n",
      "\n",
      "           0       0.98      0.97      0.98      1671\n",
      "           1       0.99      0.99      0.99      3548\n",
      "\n",
      "    accuracy                           0.99      5219\n",
      "   macro avg       0.98      0.98      0.98      5219\n",
      "weighted avg       0.99      0.99      0.99      5219\n",
      "\n"
     ]
    }
   ],
   "source": [
    "from sklearn.metrics import classification_report\n",
    "print(classification_report(Y_test, y_pred))"
   ]
  },
  {
   "cell_type": "code",
   "execution_count": 14,
   "metadata": {},
   "outputs": [
    {
     "name": "stdout",
     "output_type": "stream",
     "text": [
      "(5219, 15360)\n",
      "5219\n"
     ]
    }
   ],
   "source": [
    "X_test = np.array(flat_data_arr)\n",
    "Y_test = np.array(target_arr)\n",
    "\n",
    "print(X_test.shape)\n",
    "print(Y_test.size)"
   ]
  },
  {
   "cell_type": "code",
   "execution_count": 15,
   "metadata": {},
   "outputs": [],
   "source": [
    "from sklearn.ensemble import RandomForestClassifier\n",
    "clf=RandomForestClassifier(n_estimators=100)\n",
    "clf.fit(X_train,Y_train)\n",
    "\n",
    "y_pred=clf.predict(X_test)"
   ]
  },
  {
   "cell_type": "code",
   "execution_count": 16,
   "metadata": {},
   "outputs": [
    {
     "name": "stdout",
     "output_type": "stream",
     "text": [
      "              precision    recall  f1-score   support\n",
      "\n",
      "           0       0.98      0.99      0.98      1671\n",
      "           1       0.99      0.99      0.99      3548\n",
      "\n",
      "    accuracy                           0.99      5219\n",
      "   macro avg       0.99      0.99      0.99      5219\n",
      "weighted avg       0.99      0.99      0.99      5219\n",
      "\n"
     ]
    }
   ],
   "source": [
    "from sklearn.metrics import classification_report\n",
    "print(classification_report(Y_test, y_pred))"
   ]
  },
  {
   "cell_type": "code",
   "execution_count": null,
   "metadata": {},
   "outputs": [],
   "source": [
    "#Saving the model \n",
    "from sklearn.externals import joblib\n",
    "\n",
    "joblib_file = \"joblib_RL_Model.pkl\"  \n",
    "joblib.dump(LR_Model, joblib_file)"
   ]
  },
  {
   "cell_type": "code",
   "execution_count": null,
   "metadata": {},
   "outputs": [],
   "source": [
    "# Load from file\n",
    "joblib_LR_model = joblib.load(joblib_file)\n",
    "joblib_LR_model"
   ]
  },
  {
   "cell_type": "code",
   "execution_count": null,
   "metadata": {},
   "outputs": [],
   "source": [
    " Use the Reloaded Joblib Model to \n",
    "# Calculate the accuracy score and predict target values\n",
    "\n",
    "# Calculate the Score \n",
    "score = joblib_LR_model.score(Xtest, Ytest)  \n",
    "# Print the Score\n",
    "print(\"Test score: {0:.2f} %\".format(100 * score))  \n",
    "\n",
    "# Predict the Labels using the reloaded Model\n",
    "Ypredict = joblib_LR_model.predict(Xtest)  \n",
    "\n",
    "Ypredict"
   ]
  }
 ],
 "metadata": {
  "kernelspec": {
   "display_name": "Python 3",
   "language": "python",
   "name": "python3"
  },
  "language_info": {
   "codemirror_mode": {
    "name": "ipython",
    "version": 3
   },
   "file_extension": ".py",
   "mimetype": "text/x-python",
   "name": "python",
   "nbconvert_exporter": "python",
   "pygments_lexer": "ipython3",
   "version": "3.8.8"
  }
 },
 "nbformat": 4,
 "nbformat_minor": 4
}
